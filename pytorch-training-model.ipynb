{
 "cells": [
  {
   "cell_type": "markdown",
   "id": "5167d4d9",
   "metadata": {},
   "source": [
    "# Machine failure PyTorch model\n",
    "\n",
    "Adapted from the [SageMaker script mode](https://github.com/aws/amazon-sagemaker-examples/tree/master/sagemaker-script-mode) example."
   ]
  },
  {
   "cell_type": "markdown",
   "id": "43e058c0",
   "metadata": {},
   "source": [
    "## Imports"
   ]
  },
  {
   "cell_type": "code",
   "execution_count": 1,
   "id": "7ea26f70",
   "metadata": {},
   "outputs": [],
   "source": [
    "import sagemaker\n",
    "import subprocess\n",
    "import sys\n",
    "import random\n",
    "import math\n",
    "import pandas as pd\n",
    "import os\n",
    "import boto3\n",
    "import numpy as np\n",
    "from sklearn.model_selection import train_test_split\n",
    "from sagemaker.pytorch import PyTorch\n",
    "from sagemaker.serializers import NumpySerializer, JSONSerializer, CSVSerializer\n",
    "from sagemaker.deserializers import NumpyDeserializer, JSONDeserializer\n",
    "from sagemaker.predictor import Predictor"
   ]
  },
  {
   "cell_type": "markdown",
   "id": "fe321696",
   "metadata": {},
   "source": [
    "Make sure your SageMaker version is updated."
   ]
  },
  {
   "cell_type": "code",
   "execution_count": 2,
   "id": "29a15772",
   "metadata": {},
   "outputs": [],
   "source": [
    "# SageMaker Python SDK version 2.x is required\n",
    "original_version = sagemaker.__version__\n",
    "if sagemaker.__version__ != \"2.24.1\":\n",
    "    subprocess.check_call([sys.executable, \"-m\", \"pip\", \"install\", \"sagemaker==2.24.1\"])\n",
    "    import importlib\n",
    "\n",
    "    importlib.reload(sagemaker)"
   ]
  },
  {
   "cell_type": "markdown",
   "id": "edc31f8c",
   "metadata": {},
   "source": [
    "## Parameters"
   ]
  },
  {
   "cell_type": "code",
   "execution_count": 3,
   "id": "b560aaa8",
   "metadata": {},
   "outputs": [],
   "source": [
    "random.seed(42)\n",
    "\n",
    "# Useful SageMaker variables\n",
    "try:\n",
    "    # You're using a SageMaker notebook\n",
    "    sess = sagemaker.Session()\n",
    "    bucket = sess.default_bucket()\n",
    "    role = sagemaker.get_execution_role()\n",
    "except ValueError:\n",
    "    # You're using a notebook somewhere else\n",
    "    print(\"Setting role and SageMaker session manually...\")\n",
    "    bucket = \"marcus-ml-demo\"\n",
    "    region = \"us-east-1\"\n",
    "\n",
    "    iam = boto3.client(\"iam\")\n",
    "    sagemaker_client = boto3.client(\"sagemaker\")\n",
    "\n",
    "    sagemaker_execution_role_name = (\n",
    "        \"AmazonSageMaker-ExecutionRole-20200630T141851\"  # Change this to your role name\n",
    "    )\n",
    "    role = iam.get_role(RoleName=sagemaker_execution_role_name)[\"Role\"][\"Arn\"]\n",
    "    boto3.setup_default_session(region_name=region, profile_name=\"default\")\n",
    "    sess = sagemaker.Session(sagemaker_client=sagemaker_client, default_bucket=bucket)\n",
    "\n",
    "# Local data paths\n",
    "train_dir = os.path.join(os.getcwd(), \"data/train\")\n",
    "test_dir = os.path.join(os.getcwd(), \"data/test\")\n",
    "os.makedirs(train_dir, exist_ok=True)\n",
    "os.makedirs(test_dir, exist_ok=True)\n",
    "\n",
    "# Data paths in S3\n",
    "s3_prefix = \"marcus-machine-failure\"\n",
    "csv_s3_prefix = f\"{s3_prefix}/csv\"\n",
    "csv_s3_uri = f\"s3://{bucket}/{s3_prefix}/csv\"\n",
    "numpy_train_s3_prefix = f\"{s3_prefix}/numpy/train\"\n",
    "numpy_train_s3_uri = f\"s3://{bucket}/{numpy_train_s3_prefix}\"\n",
    "numpy_test_s3_prefix = f\"{s3_prefix}/numpy/test\"\n",
    "numpy_test_s3_uri = f\"s3://{bucket}/{numpy_test_s3_prefix}\"\n",
    "csv_train_s3_uri = f\"{csv_s3_uri}/train\"\n",
    "csv_test_s3_uri = f\"{csv_s3_uri}/test\"\n",
    "\n",
    "# Enable Local Mode training\n",
    "enable_local_mode_training = False\n",
    "\n",
    "# Endpoint names\n",
    "pytorch_endpoint_name = \"pytorch-endpoint\""
   ]
  },
  {
   "cell_type": "markdown",
   "id": "f7d7fc26",
   "metadata": {},
   "source": [
    "## Load training data"
   ]
  },
  {
   "cell_type": "code",
   "execution_count": 4,
   "id": "e6b583cf",
   "metadata": {},
   "outputs": [],
   "source": [
    "import s3fs\n",
    "\n",
    "s3 = s3fs.S3FileSystem(anon=False)\n",
    "\n",
    "key = \"ai4i2020_prep.csv\"\n",
    "with s3.open(f'{bucket}/{s3_prefix}/{key}','r') as f:\n",
    "    feature_df = pd.read_csv(f)"
   ]
  },
  {
   "cell_type": "code",
   "execution_count": 5,
   "id": "ea3dcb7c",
   "metadata": {},
   "outputs": [
    {
     "data": {
      "text/html": [
       "<div>\n",
       "<style scoped>\n",
       "    .dataframe tbody tr th:only-of-type {\n",
       "        vertical-align: middle;\n",
       "    }\n",
       "\n",
       "    .dataframe tbody tr th {\n",
       "        vertical-align: top;\n",
       "    }\n",
       "\n",
       "    .dataframe thead th {\n",
       "        text-align: right;\n",
       "    }\n",
       "</style>\n",
       "<table border=\"1\" class=\"dataframe\">\n",
       "  <thead>\n",
       "    <tr style=\"text-align: right;\">\n",
       "      <th></th>\n",
       "      <th>y</th>\n",
       "      <th>air_temperature</th>\n",
       "      <th>process_temperature</th>\n",
       "      <th>rotational_speed</th>\n",
       "      <th>torque</th>\n",
       "      <th>tool_wear</th>\n",
       "      <th>high</th>\n",
       "      <th>low</th>\n",
       "      <th>medium</th>\n",
       "    </tr>\n",
       "  </thead>\n",
       "  <tbody>\n",
       "    <tr>\n",
       "      <th>19317</th>\n",
       "      <td>1</td>\n",
       "      <td>0.565180</td>\n",
       "      <td>0.518519</td>\n",
       "      <td>0.132712</td>\n",
       "      <td>0.578316</td>\n",
       "      <td>0.830040</td>\n",
       "      <td>1.0</td>\n",
       "      <td>0.0</td>\n",
       "      <td>0.0</td>\n",
       "    </tr>\n",
       "    <tr>\n",
       "      <th>19318</th>\n",
       "      <td>1</td>\n",
       "      <td>0.338743</td>\n",
       "      <td>0.356003</td>\n",
       "      <td>0.878347</td>\n",
       "      <td>0.094848</td>\n",
       "      <td>0.335968</td>\n",
       "      <td>0.0</td>\n",
       "      <td>0.0</td>\n",
       "      <td>1.0</td>\n",
       "    </tr>\n",
       "    <tr>\n",
       "      <th>19319</th>\n",
       "      <td>1</td>\n",
       "      <td>0.462273</td>\n",
       "      <td>0.655407</td>\n",
       "      <td>0.319558</td>\n",
       "      <td>0.330801</td>\n",
       "      <td>0.873518</td>\n",
       "      <td>0.0</td>\n",
       "      <td>0.0</td>\n",
       "      <td>0.0</td>\n",
       "    </tr>\n",
       "    <tr>\n",
       "      <th>19320</th>\n",
       "      <td>1</td>\n",
       "      <td>0.647715</td>\n",
       "      <td>0.594625</td>\n",
       "      <td>0.302678</td>\n",
       "      <td>0.366137</td>\n",
       "      <td>0.893281</td>\n",
       "      <td>0.0</td>\n",
       "      <td>0.0</td>\n",
       "      <td>1.0</td>\n",
       "    </tr>\n",
       "    <tr>\n",
       "      <th>19321</th>\n",
       "      <td>1</td>\n",
       "      <td>0.730462</td>\n",
       "      <td>0.598804</td>\n",
       "      <td>0.116997</td>\n",
       "      <td>0.590625</td>\n",
       "      <td>0.280632</td>\n",
       "      <td>0.0</td>\n",
       "      <td>0.0</td>\n",
       "      <td>1.0</td>\n",
       "    </tr>\n",
       "  </tbody>\n",
       "</table>\n",
       "</div>"
      ],
      "text/plain": [
       "       y  air_temperature  process_temperature  rotational_speed    torque  \\\n",
       "19317  1         0.565180             0.518519          0.132712  0.578316   \n",
       "19318  1         0.338743             0.356003          0.878347  0.094848   \n",
       "19319  1         0.462273             0.655407          0.319558  0.330801   \n",
       "19320  1         0.647715             0.594625          0.302678  0.366137   \n",
       "19321  1         0.730462             0.598804          0.116997  0.590625   \n",
       "\n",
       "       tool_wear  high  low  medium  \n",
       "19317   0.830040   1.0  0.0     0.0  \n",
       "19318   0.335968   0.0  0.0     1.0  \n",
       "19319   0.873518   0.0  0.0     0.0  \n",
       "19320   0.893281   0.0  0.0     1.0  \n",
       "19321   0.280632   0.0  0.0     1.0  "
      ]
     },
     "execution_count": 5,
     "metadata": {},
     "output_type": "execute_result"
    }
   ],
   "source": [
    "feature_df['high'] = feature_df['high'].astype(float)\n",
    "feature_df['low'] = feature_df['low'].astype(float)\n",
    "feature_df['medium'] = feature_df['medium'].astype(float)\n",
    "feature_df.tail()"
   ]
  },
  {
   "cell_type": "markdown",
   "id": "8b05e5c6",
   "metadata": {},
   "source": [
    "## Train / Test split"
   ]
  },
  {
   "cell_type": "code",
   "execution_count": 6,
   "id": "59648d6c",
   "metadata": {},
   "outputs": [],
   "source": [
    "X_train, X_test, y_train, y_test = train_test_split(feature_df.iloc[:, 1:], feature_df['y'], test_size=0.33, random_state=42)"
   ]
  },
  {
   "cell_type": "code",
   "execution_count": 7,
   "id": "fd667404",
   "metadata": {},
   "outputs": [],
   "source": [
    "# Save as Numpy\n",
    "np.save(os.path.join(train_dir, \"x_train.npy\"), X_train.values)\n",
    "np.save(os.path.join(test_dir, \"x_test.npy\"), X_test.values)\n",
    "np.save(os.path.join(train_dir, \"y_train.npy\"), y_train.values)\n",
    "np.save(os.path.join(test_dir, \"y_test.npy\"), y_test.values)"
   ]
  },
  {
   "cell_type": "code",
   "execution_count": 8,
   "id": "ba7d6fd0",
   "metadata": {},
   "outputs": [],
   "source": [
    "\n",
    "s3_resource_bucket = boto3.Session().resource(\"s3\").Bucket(bucket)\n",
    "\n",
    "s3_resource_bucket.Object(os.path.join(numpy_train_s3_prefix, \"x_train.npy\")).upload_file(\n",
    "    \"data/train/x_train.npy\"\n",
    ")\n",
    "s3_resource_bucket.Object(os.path.join(numpy_train_s3_prefix, \"y_train.npy\")).upload_file(\n",
    "    \"data/train/y_train.npy\"\n",
    ")\n",
    "s3_resource_bucket.Object(os.path.join(numpy_test_s3_prefix, \"x_test.npy\")).upload_file(\n",
    "    \"data/test/x_test.npy\"\n",
    ")\n",
    "s3_resource_bucket.Object(os.path.join(numpy_test_s3_prefix, \"y_test.npy\")).upload_file(\n",
    "    \"data/test/y_test.npy\"\n",
    ")"
   ]
  },
  {
   "cell_type": "markdown",
   "id": "f5561adc",
   "metadata": {},
   "source": [
    "## PyTorch"
   ]
  },
  {
   "cell_type": "code",
   "execution_count": 9,
   "id": "225374bc",
   "metadata": {},
   "outputs": [
    {
     "name": "stdout",
     "output_type": "stream",
     "text": [
      "2021-07-20 17:20:47 Starting - Starting the training job...\n",
      "2021-07-20 17:21:10 Starting - Launching requested ML instancesProfilerReport-1626801647: InProgress\n",
      "...\n",
      "2021-07-20 17:21:45 Starting - Preparing the instances for training.........\n",
      "2021-07-20 17:23:16 Downloading - Downloading input data\n",
      "2021-07-20 17:23:16 Training - Downloading the training image...\n",
      "2021-07-20 17:23:42 Training - Training image download completed. Training in progress..\u001b[34mbash: cannot set terminal process group (-1): Inappropriate ioctl for device\u001b[0m\n",
      "\u001b[34mbash: no job control in this shell\u001b[0m\n",
      "\u001b[34m2021-07-20 17:23:43,224 sagemaker-training-toolkit INFO     Imported framework sagemaker_pytorch_container.training\u001b[0m\n",
      "\u001b[34m2021-07-20 17:23:43,226 sagemaker-training-toolkit INFO     No GPUs detected (normal if no gpus installed)\u001b[0m\n",
      "\u001b[34m2021-07-20 17:23:43,235 sagemaker_pytorch_container.training INFO     Block until all host DNS lookups succeed.\u001b[0m\n",
      "\u001b[34m2021-07-20 17:23:46,279 sagemaker_pytorch_container.training INFO     Invoking user training script.\u001b[0m\n",
      "\u001b[34m2021-07-20 17:23:46,748 sagemaker-training-toolkit INFO     No GPUs detected (normal if no gpus installed)\u001b[0m\n",
      "\u001b[34m2021-07-20 17:23:46,759 sagemaker-training-toolkit INFO     No GPUs detected (normal if no gpus installed)\u001b[0m\n",
      "\u001b[34m2021-07-20 17:23:46,769 sagemaker-training-toolkit INFO     No GPUs detected (normal if no gpus installed)\u001b[0m\n",
      "\u001b[34m2021-07-20 17:23:46,778 sagemaker-training-toolkit INFO     Invoking user script\n",
      "\u001b[0m\n",
      "\u001b[34mTraining Env:\n",
      "\u001b[0m\n",
      "\u001b[34m{\n",
      "    \"additional_framework_parameters\": {},\n",
      "    \"channel_input_dirs\": {\n",
      "        \"test\": \"/opt/ml/input/data/test\",\n",
      "        \"train\": \"/opt/ml/input/data/train\"\n",
      "    },\n",
      "    \"current_host\": \"algo-1\",\n",
      "    \"framework_module\": \"sagemaker_pytorch_container.training:main\",\n",
      "    \"hosts\": [\n",
      "        \"algo-1\"\n",
      "    ],\n",
      "    \"hyperparameters\": {\n",
      "        \"batch_size\": 128,\n",
      "        \"epochs\": 25,\n",
      "        \"learning_rate\": 0.01\n",
      "    },\n",
      "    \"input_config_dir\": \"/opt/ml/input/config\",\n",
      "    \"input_data_config\": {\n",
      "        \"test\": {\n",
      "            \"TrainingInputMode\": \"File\",\n",
      "            \"S3DistributionType\": \"FullyReplicated\",\n",
      "            \"RecordWrapperType\": \"None\"\n",
      "        },\n",
      "        \"train\": {\n",
      "            \"TrainingInputMode\": \"File\",\n",
      "            \"S3DistributionType\": \"FullyReplicated\",\n",
      "            \"RecordWrapperType\": \"None\"\n",
      "        }\n",
      "    },\n",
      "    \"input_dir\": \"/opt/ml/input\",\n",
      "    \"is_master\": true,\n",
      "    \"job_name\": \"pytorch-model-2021-07-20-17-20-47-295\",\n",
      "    \"log_level\": 20,\n",
      "    \"master_hostname\": \"algo-1\",\n",
      "    \"model_dir\": \"/opt/ml/model\",\n",
      "    \"module_dir\": \"s3://sagemaker-us-east-1-405147176623/pytorch-model-2021-07-20-17-20-47-295/source/sourcedir.tar.gz\",\n",
      "    \"module_name\": \"train_deploy_pytorch_without_dependencies\",\n",
      "    \"network_interface_name\": \"eth0\",\n",
      "    \"num_cpus\": 4,\n",
      "    \"num_gpus\": 0,\n",
      "    \"output_data_dir\": \"/opt/ml/output/data\",\n",
      "    \"output_dir\": \"/opt/ml/output\",\n",
      "    \"output_intermediate_dir\": \"/opt/ml/output/intermediate\",\n",
      "    \"resource_config\": {\n",
      "        \"current_host\": \"algo-1\",\n",
      "        \"hosts\": [\n",
      "            \"algo-1\"\n",
      "        ],\n",
      "        \"network_interface_name\": \"eth0\"\n",
      "    },\n",
      "    \"user_entry_point\": \"train_deploy_pytorch_without_dependencies.py\"\u001b[0m\n",
      "\u001b[34m}\n",
      "\u001b[0m\n",
      "\u001b[34mEnvironment variables:\n",
      "\u001b[0m\n",
      "\u001b[34mSM_HOSTS=[\"algo-1\"]\u001b[0m\n",
      "\u001b[34mSM_NETWORK_INTERFACE_NAME=eth0\u001b[0m\n",
      "\u001b[34mSM_HPS={\"batch_size\":128,\"epochs\":25,\"learning_rate\":0.01}\u001b[0m\n",
      "\u001b[34mSM_USER_ENTRY_POINT=train_deploy_pytorch_without_dependencies.py\u001b[0m\n",
      "\u001b[34mSM_FRAMEWORK_PARAMS={}\u001b[0m\n",
      "\u001b[34mSM_RESOURCE_CONFIG={\"current_host\":\"algo-1\",\"hosts\":[\"algo-1\"],\"network_interface_name\":\"eth0\"}\u001b[0m\n",
      "\u001b[34mSM_INPUT_DATA_CONFIG={\"test\":{\"RecordWrapperType\":\"None\",\"S3DistributionType\":\"FullyReplicated\",\"TrainingInputMode\":\"File\"},\"train\":{\"RecordWrapperType\":\"None\",\"S3DistributionType\":\"FullyReplicated\",\"TrainingInputMode\":\"File\"}}\u001b[0m\n",
      "\u001b[34mSM_OUTPUT_DATA_DIR=/opt/ml/output/data\u001b[0m\n",
      "\u001b[34mSM_CHANNELS=[\"test\",\"train\"]\u001b[0m\n",
      "\u001b[34mSM_CURRENT_HOST=algo-1\u001b[0m\n",
      "\u001b[34mSM_MODULE_NAME=train_deploy_pytorch_without_dependencies\u001b[0m\n",
      "\u001b[34mSM_LOG_LEVEL=20\u001b[0m\n",
      "\u001b[34mSM_FRAMEWORK_MODULE=sagemaker_pytorch_container.training:main\u001b[0m\n",
      "\u001b[34mSM_INPUT_DIR=/opt/ml/input\u001b[0m\n",
      "\u001b[34mSM_INPUT_CONFIG_DIR=/opt/ml/input/config\u001b[0m\n",
      "\u001b[34mSM_OUTPUT_DIR=/opt/ml/output\u001b[0m\n",
      "\u001b[34mSM_NUM_CPUS=4\u001b[0m\n",
      "\u001b[34mSM_NUM_GPUS=0\u001b[0m\n",
      "\u001b[34mSM_MODEL_DIR=/opt/ml/model\u001b[0m\n",
      "\u001b[34mSM_MODULE_DIR=s3://sagemaker-us-east-1-405147176623/pytorch-model-2021-07-20-17-20-47-295/source/sourcedir.tar.gz\u001b[0m\n",
      "\u001b[34mSM_TRAINING_ENV={\"additional_framework_parameters\":{},\"channel_input_dirs\":{\"test\":\"/opt/ml/input/data/test\",\"train\":\"/opt/ml/input/data/train\"},\"current_host\":\"algo-1\",\"framework_module\":\"sagemaker_pytorch_container.training:main\",\"hosts\":[\"algo-1\"],\"hyperparameters\":{\"batch_size\":128,\"epochs\":25,\"learning_rate\":0.01},\"input_config_dir\":\"/opt/ml/input/config\",\"input_data_config\":{\"test\":{\"RecordWrapperType\":\"None\",\"S3DistributionType\":\"FullyReplicated\",\"TrainingInputMode\":\"File\"},\"train\":{\"RecordWrapperType\":\"None\",\"S3DistributionType\":\"FullyReplicated\",\"TrainingInputMode\":\"File\"}},\"input_dir\":\"/opt/ml/input\",\"is_master\":true,\"job_name\":\"pytorch-model-2021-07-20-17-20-47-295\",\"log_level\":20,\"master_hostname\":\"algo-1\",\"model_dir\":\"/opt/ml/model\",\"module_dir\":\"s3://sagemaker-us-east-1-405147176623/pytorch-model-2021-07-20-17-20-47-295/source/sourcedir.tar.gz\",\"module_name\":\"train_deploy_pytorch_without_dependencies\",\"network_interface_name\":\"eth0\",\"num_cpus\":4,\"num_gpus\":0,\"output_data_dir\":\"/opt/ml/output/data\",\"output_dir\":\"/opt/ml/output\",\"output_intermediate_dir\":\"/opt/ml/output/intermediate\",\"resource_config\":{\"current_host\":\"algo-1\",\"hosts\":[\"algo-1\"],\"network_interface_name\":\"eth0\"},\"user_entry_point\":\"train_deploy_pytorch_without_dependencies.py\"}\u001b[0m\n",
      "\u001b[34mSM_USER_ARGS=[\"--batch_size\",\"128\",\"--epochs\",\"25\",\"--learning_rate\",\"0.01\"]\u001b[0m\n",
      "\u001b[34mSM_OUTPUT_INTERMEDIATE_DIR=/opt/ml/output/intermediate\u001b[0m\n",
      "\u001b[34mSM_CHANNEL_TEST=/opt/ml/input/data/test\u001b[0m\n",
      "\u001b[34mSM_CHANNEL_TRAIN=/opt/ml/input/data/train\u001b[0m\n",
      "\u001b[34mSM_HP_BATCH_SIZE=128\u001b[0m\n",
      "\u001b[34mSM_HP_EPOCHS=25\u001b[0m\n",
      "\u001b[34mSM_HP_LEARNING_RATE=0.01\u001b[0m\n",
      "\u001b[34mPYTHONPATH=/opt/ml/code:/opt/conda/bin:/opt/conda/lib/python36.zip:/opt/conda/lib/python3.6:/opt/conda/lib/python3.6/lib-dynload:/opt/conda/lib/python3.6/site-packages\n",
      "\u001b[0m\n",
      "\u001b[34mInvoking script with the following command:\n",
      "\u001b[0m\n",
      "\u001b[34m/opt/conda/bin/python3.6 train_deploy_pytorch_without_dependencies.py --batch_size 128 --epochs 25 --learning_rate 0.01\n",
      "\n",
      "\u001b[0m\n",
      "\u001b[34mx train: (12945, 8), y train: (12945,)\u001b[0m\n",
      "\u001b[34mx test: (6377, 8), y test: (6377,)\u001b[0m\n",
      "\u001b[34mbatch_size = 128, epochs = 25, learning rate = 0.01\u001b[0m\n",
      "\u001b[34m[2021-07-20 17:23:48.134 algo-1:25 INFO json_config.py:90] Creating hook from json_config at /opt/ml/input/config/debughookconfig.json.\u001b[0m\n",
      "\u001b[34m[2021-07-20 17:23:48.135 algo-1:25 INFO hook.py:193] tensorboard_dir has not been set for the hook. SMDebug will not be exporting tensorboard summaries.\u001b[0m\n",
      "\u001b[34m[2021-07-20 17:23:48.135 algo-1:25 INFO hook.py:238] Saving to /opt/ml/output/tensors\u001b[0m\n",
      "\u001b[34m[2021-07-20 17:23:48.135 algo-1:25 INFO state_store.py:67] The checkpoint config file /opt/ml/input/config/checkpointconfig.json does not exist.\u001b[0m\n",
      "\u001b[34m[2021-07-20 17:23:48.135 algo-1:25 INFO hook.py:398] Monitoring the collections: losses\u001b[0m\n",
      "\u001b[34m[2021-07-20 17:23:48.136 algo-1:25 INFO hook.py:461] Hook is writing from the hook with pid: 25\n",
      "\u001b[0m\n",
      "\u001b[34mepoch: 1 -> loss: 0.24797451496124268\u001b[0m\n",
      "\u001b[34mepoch: 2 -> loss: 0.25100192427635193\u001b[0m\n",
      "\u001b[34mepoch: 3 -> loss: 0.25022491812705994\u001b[0m\n",
      "\u001b[34mepoch: 4 -> loss: 0.24562397599220276\u001b[0m\n",
      "\u001b[34mepoch: 5 -> loss: 0.24426564574241638\u001b[0m\n",
      "\u001b[34mepoch: 6 -> loss: 0.2485630065202713\u001b[0m\n",
      "\u001b[34mepoch: 7 -> loss: 0.25057297945022583\u001b[0m\n",
      "\u001b[34mepoch: 8 -> loss: 0.25119227170944214\u001b[0m\n",
      "\u001b[34mepoch: 9 -> loss: 0.24504417181015015\u001b[0m\n",
      "\u001b[34mepoch: 10 -> loss: 0.24833866953849792\u001b[0m\n",
      "\u001b[34mepoch: 11 -> loss: 0.24342310428619385\u001b[0m\n",
      "\u001b[34mepoch: 12 -> loss: 0.24213235080242157\u001b[0m\n",
      "\u001b[34mepoch: 13 -> loss: 0.24674931168556213\u001b[0m\n",
      "\u001b[34mepoch: 14 -> loss: 0.24203357100486755\u001b[0m\n",
      "\u001b[34mepoch: 15 -> loss: 0.2379130721092224\u001b[0m\n",
      "\u001b[34mepoch: 16 -> loss: 0.24339695274829865\u001b[0m\n",
      "\u001b[34mepoch: 17 -> loss: 0.245547354221344\u001b[0m\n",
      "\u001b[34mepoch: 18 -> loss: 0.24065211415290833\u001b[0m\n",
      "\u001b[34mepoch: 19 -> loss: 0.23771680891513824\u001b[0m\n",
      "\u001b[34mepoch: 20 -> loss: 0.23756711184978485\u001b[0m\n",
      "\u001b[34mepoch: 21 -> loss: 0.23318910598754883\u001b[0m\n",
      "\u001b[34mepoch: 22 -> loss: 0.23820596933364868\u001b[0m\n",
      "\u001b[34mepoch: 23 -> loss: 0.24048401415348053\u001b[0m\n",
      "\u001b[34mepoch: 24 -> loss: 0.2390793114900589\u001b[0m\n",
      "\u001b[34mepoch: 25 -> loss: 0.22784759104251862\n",
      "\u001b[0m\n",
      "\u001b[34mTest MSE: 0.23230265\u001b[0m\n",
      "\u001b[34mCreated a folder at /opt/ml/model/code/!\u001b[0m\n",
      "\u001b[34mSaving models files to /opt/ml/model/code/\u001b[0m\n",
      "\u001b[34mINFO:__main__:epoch: 1 -> loss: 0.24797451496124268\u001b[0m\n",
      "\u001b[34mINFO:__main__:epoch: 2 -> loss: 0.25100192427635193\u001b[0m\n",
      "\u001b[34mINFO:__main__:epoch: 3 -> loss: 0.25022491812705994\u001b[0m\n",
      "\u001b[34mINFO:__main__:epoch: 4 -> loss: 0.24562397599220276\u001b[0m\n",
      "\u001b[34mINFO:__main__:epoch: 5 -> loss: 0.24426564574241638\u001b[0m\n",
      "\u001b[34mINFO:__main__:epoch: 6 -> loss: 0.2485630065202713\u001b[0m\n",
      "\u001b[34mINFO:__main__:epoch: 7 -> loss: 0.25057297945022583\u001b[0m\n",
      "\u001b[34mINFO:__main__:epoch: 8 -> loss: 0.25119227170944214\u001b[0m\n",
      "\u001b[34mINFO:__main__:epoch: 9 -> loss: 0.24504417181015015\u001b[0m\n",
      "\u001b[34mINFO:__main__:epoch: 10 -> loss: 0.24833866953849792\u001b[0m\n",
      "\u001b[34mINFO:__main__:epoch: 11 -> loss: 0.24342310428619385\u001b[0m\n",
      "\u001b[34mINFO:__main__:epoch: 12 -> loss: 0.24213235080242157\u001b[0m\n",
      "\u001b[34mINFO:__main__:epoch: 13 -> loss: 0.24674931168556213\u001b[0m\n",
      "\u001b[34mINFO:__main__:epoch: 14 -> loss: 0.24203357100486755\u001b[0m\n",
      "\u001b[34mINFO:__main__:epoch: 15 -> loss: 0.2379130721092224\u001b[0m\n",
      "\u001b[34mINFO:__main__:epoch: 16 -> loss: 0.24339695274829865\u001b[0m\n",
      "\u001b[34mINFO:__main__:epoch: 17 -> loss: 0.245547354221344\u001b[0m\n",
      "\u001b[34mINFO:__main__:epoch: 18 -> loss: 0.24065211415290833\u001b[0m\n",
      "\u001b[34mINFO:__main__:epoch: 19 -> loss: 0.23771680891513824\u001b[0m\n",
      "\u001b[34mINFO:__main__:epoch: 20 -> loss: 0.23756711184978485\u001b[0m\n",
      "\u001b[34mINFO:__main__:epoch: 21 -> loss: 0.23318910598754883\u001b[0m\n",
      "\u001b[34mINFO:__main__:epoch: 22 -> loss: 0.23820596933364868\u001b[0m\n",
      "\u001b[34mINFO:__main__:epoch: 23 -> loss: 0.24048401415348053\u001b[0m\n",
      "\u001b[34mINFO:__main__:epoch: 24 -> loss: 0.2390793114900589\u001b[0m\n",
      "\u001b[34mINFO:__main__:epoch: 25 -> loss: 0.22784759104251862\u001b[0m\n",
      "\u001b[34mINFO:__main__:Created a folder at /opt/ml/model/code/!\u001b[0m\n",
      "\u001b[34mINFO:__main__:Saving models files to /opt/ml/model/code/\n",
      "\u001b[0m\n",
      "\u001b[34m2021-07-20 17:23:52,671 sagemaker-training-toolkit INFO     Reporting training SUCCESS\u001b[0m\n",
      "\n",
      "2021-07-20 17:24:11 Uploading - Uploading generated training model\n",
      "2021-07-20 17:24:11 Completed - Training job completed\n",
      "Training seconds: 64\n",
      "Billable seconds: 64\n"
     ]
    }
   ],
   "source": [
    "hyperparameters = {\"epochs\": 25, \"batch_size\": 128, \"learning_rate\": 0.01}\n",
    "\n",
    "if enable_local_mode_training:\n",
    "    train_instance_type = \"local\"\n",
    "    inputs = {\"train\": f\"file://{train_dir}\", \"test\": f\"file://{test_dir}\"}\n",
    "else:\n",
    "    train_instance_type = \"ml.c5.xlarge\"\n",
    "    inputs = {\"train\": numpy_train_s3_uri, \"test\": numpy_test_s3_uri}\n",
    "\n",
    "estimator_parameters = {\n",
    "    \"entry_point\": \"train_deploy_pytorch_without_dependencies.py\",\n",
    "    \"source_dir\": \"pytorch_script\",\n",
    "    \"instance_type\": train_instance_type,\n",
    "    \"instance_count\": 1,\n",
    "    \"hyperparameters\": hyperparameters,\n",
    "    \"role\": role,\n",
    "    \"base_job_name\": \"pytorch-model\",\n",
    "    \"framework_version\": \"1.5\",\n",
    "    \"py_version\": \"py3\",\n",
    "}\n",
    "\n",
    "estimator = PyTorch(**estimator_parameters)\n",
    "estimator.fit(inputs)"
   ]
  },
  {
   "cell_type": "markdown",
   "id": "732093dd",
   "metadata": {},
   "source": [
    "Again, after the estimator finishes training, we can deploy it to a SageMaker endpoint."
   ]
  },
  {
   "cell_type": "code",
   "execution_count": 10,
   "id": "1a974e78",
   "metadata": {},
   "outputs": [
    {
     "name": "stdout",
     "output_type": "stream",
     "text": [
      "-------------!"
     ]
    }
   ],
   "source": [
    "existing_endpoints = sess.sagemaker_client.list_endpoints(\n",
    "    NameContains=pytorch_endpoint_name, MaxResults=30\n",
    ")[\"Endpoints\"]\n",
    "if not existing_endpoints:\n",
    "    pytorch_predictor = estimator.deploy(\n",
    "        initial_instance_count=1, instance_type=\"ml.m5.xlarge\", endpoint_name=pytorch_endpoint_name\n",
    "    )\n",
    "else:\n",
    "    pytorch_predictor = Predictor(\n",
    "        endpoint_name=\"pytorch-endpoint\",\n",
    "        sagemaker_session=sess,\n",
    "        serializer=JSONSerializer(),\n",
    "        deserializer=JSONDeserializer(),\n",
    "    )"
   ]
  },
  {
   "cell_type": "markdown",
   "id": "f15e813a",
   "metadata": {},
   "source": [
    "Then we can use the endpoint to make predictions."
   ]
  },
  {
   "cell_type": "code",
   "execution_count": 11,
   "id": "372778cf",
   "metadata": {},
   "outputs": [],
   "source": [
    "pytorch_predictor.serializer = JSONSerializer()\n",
    "pytorch_predictor.deserializer = JSONDeserializer()\n",
    "\n",
    "y_preds = [pytorch_predictor.predict(xt) for xt in X_test.values]"
   ]
  },
  {
   "cell_type": "code",
   "execution_count": 12,
   "id": "c16a5fd4",
   "metadata": {},
   "outputs": [],
   "source": [
    "y_preds = np.array(y_preds)\n",
    "test_pred_class = (y_preds > 0.5) + 0"
   ]
  },
  {
   "cell_type": "code",
   "execution_count": 13,
   "id": "37a22c31",
   "metadata": {},
   "outputs": [
    {
     "name": "stdout",
     "output_type": "stream",
     "text": [
      "Accuracy: 0.79\n"
     ]
    }
   ],
   "source": [
    "from sklearn.metrics import accuracy_score\n",
    "accuracy = accuracy_score(y_test, test_pred_class, normalize=True)\n",
    "print(f'Accuracy: {accuracy:.2f}')"
   ]
  },
  {
   "cell_type": "code",
   "execution_count": 14,
   "id": "ad947e2a",
   "metadata": {},
   "outputs": [
    {
     "name": "stdout",
     "output_type": "stream",
     "text": [
      "Precision: 0.77\n",
      "Recall: 0.81\n",
      "F-Beta: 0.79\n",
      "Support: None\n"
     ]
    }
   ],
   "source": [
    "from sklearn.metrics import precision_recall_fscore_support\n",
    "(precision, recall, fbeta, support) = precision_recall_fscore_support(y_test, test_pred_class, average='binary')\n",
    "print(f'Precision: {precision:.2f}')\n",
    "print(f'Recall: {recall:.2f}')\n",
    "print(f'F-Beta: {fbeta:.2f}')\n",
    "print(f'Support: {support}')"
   ]
  },
  {
   "cell_type": "code",
   "execution_count": 18,
   "id": "e9ad5967",
   "metadata": {},
   "outputs": [
    {
     "data": {
      "image/png": "[encoded data removed]",
      "text/plain": [
       "<Figure size 432x288 with 2 Axes>"
      ]
     },
     "metadata": {
      "needs_background": "light"
     },
     "output_type": "display_data"
    }
   ],
   "source": [
    "from sklearn.metrics import accuracy_score, recall_score, precision_score, confusion_matrix\n",
    "import seaborn as sns\n",
    "\n",
    "_ = sns.heatmap(confusion_matrix(y_test, test_pred_class, normalize='pred'), annot=True)"
   ]
  },
  {
   "cell_type": "markdown",
   "id": "a2caddb1",
   "metadata": {},
   "source": [
    "## Cleanup"
   ]
  },
  {
   "cell_type": "code",
   "execution_count": 19,
   "id": "248fc0a7",
   "metadata": {},
   "outputs": [],
   "source": [
    "resources = (\n",
    "    [pytorch_endpoint_name, pytorch_predictor],\n",
    ")\n",
    "\n",
    "for resource in resources:\n",
    "    existing_endpoints = sess.sagemaker_client.list_endpoints(\n",
    "        NameContains=resource[0], MaxResults=30\n",
    "    )[\"Endpoints\"]\n",
    "    if existing_endpoints:\n",
    "        resource[1].delete_endpoint(delete_endpoint_config=True)"
   ]
  }
 ],
 "metadata": {
  "kernelspec": {
   "display_name": "conda_pytorch_p36",
   "language": "python",
   "name": "conda_pytorch_p36"
  },
  "language_info": {
   "codemirror_mode": {
    "name": "ipython",
    "version": 3
   },
   "file_extension": ".py",
   "mimetype": "text/x-python",
   "name": "python",
   "nbconvert_exporter": "python",
   "pygments_lexer": "ipython3",
   "version": "3.6.13"
  }
 },
 "nbformat": 4,
 "nbformat_minor": 5
}
